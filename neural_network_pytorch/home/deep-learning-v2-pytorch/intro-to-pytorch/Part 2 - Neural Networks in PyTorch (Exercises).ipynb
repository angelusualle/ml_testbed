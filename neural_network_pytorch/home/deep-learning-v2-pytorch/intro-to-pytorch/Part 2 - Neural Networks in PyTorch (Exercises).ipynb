{
 "cells": [
  {
   "cell_type": "markdown",
   "metadata": {},
   "source": [
    "# Neural networks with PyTorch\n",
    "\n",
    "Deep learning networks tend to be massive with dozens or hundreds of layers, that's where the term \"deep\" comes from. You can build one of these deep networks using only weight matrices as we did in the previous notebook, but in general it's very cumbersome and difficult to implement. PyTorch has a nice module `nn` that provides a nice way to efficiently build large neural networks."
   ]
  },
  {
   "cell_type": "code",
   "execution_count": 1,
   "metadata": {},
   "outputs": [],
   "source": [
    "# Import necessary packages\n",
    "%matplotlib inline\n",
    "%config InlineBackend.figure_format = 'retina'\n",
    "\n",
    "import numpy as np\n",
    "import torch\n",
    "\n",
    "import helper\n",
    "\n",
    "import matplotlib.pyplot as plt"
   ]
  },
  {
   "cell_type": "markdown",
   "metadata": {},
   "source": [
    "\n",
    "Now we're going to build a larger network that can solve a (formerly) difficult problem, identifying text in an image. Here we'll use the MNIST dataset which consists of greyscale handwritten digits. Each image is 28x28 pixels, you can see a sample below\n",
    "\n",
    "<img src='assets/mnist.png'>\n",
    "\n",
    "Our goal is to build a neural network that can take one of these images and predict the digit in the image.\n",
    "\n",
    "First up, we need to get our dataset. This is provided through the `torchvision` package. The code below will download the MNIST dataset, then create training and test datasets for us. Don't worry too much about the details here, you'll learn more about this later."
   ]
  },
  {
   "cell_type": "code",
   "execution_count": 6,
   "metadata": {},
   "outputs": [],
   "source": [
    "### Run this cell\n",
    "from torchvision import datasets, transforms\n",
    "\n",
    "# Define a transform to normalize the data\n",
    "transform = transforms.Compose([transforms.ToTensor(),\n",
    "                              transforms.Normalize((0.5,), (0.5,)),\n",
    "                              ])\n",
    "\n",
    "# Download and load the training data\n",
    "trainset = datasets.MNIST('~/.pytorch/MNIST_data/', download=True, train=True, transform=transform)\n",
    "trainloader = torch.utils.data.DataLoader(trainset, batch_size=64, shuffle=True)"
   ]
  },
  {
   "cell_type": "markdown",
   "metadata": {},
   "source": [
    "We have the training data loaded into `trainloader` and we make that an iterator with `iter(trainloader)`. Later, we'll use this to loop through the dataset for training, like\n",
    "\n",
    "```python\n",
    "for image, label in trainloader:\n",
    "    ## do things with images and labels\n",
    "```\n",
    "\n",
    "You'll notice I created the `trainloader` with a batch size of 64, and `shuffle=True`. The batch size is the number of images we get in one iteration from the data loader and pass through our network, often called a *batch*. And `shuffle=True` tells it to shuffle the dataset every time we start going through the data loader again. But here I'm just grabbing the first batch so we can check out the data. We can see below that `images` is just a tensor with size `(64, 1, 28, 28)`. So, 64 images per batch, 1 color channel, and 28x28 images."
   ]
  },
  {
   "cell_type": "code",
   "execution_count": 7,
   "metadata": {},
   "outputs": [
    {
     "name": "stdout",
     "output_type": "stream",
     "text": [
      "<class 'torch.Tensor'>\n",
      "torch.Size([64, 1, 28, 28])\n",
      "torch.Size([64])\n"
     ]
    }
   ],
   "source": [
    "dataiter = iter(trainloader)\n",
    "images, labels = dataiter.next()\n",
    "print(type(images))\n",
    "print(images.shape)\n",
    "print(labels.shape)"
   ]
  },
  {
   "cell_type": "markdown",
   "metadata": {},
   "source": [
    "This is what one of the images looks like. "
   ]
  },
  {
   "cell_type": "code",
   "execution_count": 10,
   "metadata": {},
   "outputs": [
    {
     "data": {
      "image/png": "[encoded data removed]",
      "text/plain": [
       "<Figure size 432x288 with 1 Axes>"
      ]
     },
     "metadata": {
      "image/png": {
       "height": 248,
       "width": 251
      },
      "needs_background": "light"
     },
     "output_type": "display_data"
    }
   ],
   "source": [
    "plt.imshow(images[1].numpy().squeeze(), cmap='Greys_r');"
   ]
  },
  {
   "cell_type": "markdown",
   "metadata": {},
   "source": [
    "First, let's try to build a simple network for this dataset using weight matrices and matrix multiplications. Then, we'll see how to do it using PyTorch's `nn` module which provides a much more convenient and powerful method for defining network architectures.\n",
    "\n",
    "The networks you've seen so far are called *fully-connected* or *dense* networks. Each unit in one layer is connected to each unit in the next layer. In fully-connected networks, the input to each layer must be a one-dimensional vector (which can be stacked into a 2D tensor as a batch of multiple examples). However, our images are 28x28 2D tensors, so we need to convert them into 1D vectors. Thinking about sizes, we need to convert the batch of images with shape `(64, 1, 28, 28)` to a have a shape of `(64, 784)`, 784 is 28 times 28. This is typically called *flattening*, we flattened the 2D images into 1D vectors.\n",
    "\n",
    "Previously you built a network with one output unit. Here we need 10 output units, one for each digit. We want our network to predict the digit shown in an image, so what we'll do is calculate probabilities that the image is of any one digit or class. This ends up being a discrete probability distribution over the classes (digits) that tells us the most likely class for the image. That means we need 10 output units for the 10 classes (digits). We'll see how to convert the network output into a probability distribution next.\n",
    "\n",
    "> **Exercise:** Flatten the batch of images `images`. Then build a multi-layer network with 784 input units, 256 hidden units, and 10 output units using random tensors for the weights and biases. For now, use a sigmoid activation for the hidden layer. Leave the output layer without an activation, we'll add one that gives us a probability distribution next."
   ]
  },
  {
   "cell_type": "code",
   "execution_count": 30,
   "metadata": {},
   "outputs": [
    {
     "name": "stdout",
     "output_type": "stream",
     "text": [
      "tensor([[ 2.4757e+00, -4.1113e+00, -2.0122e+00, -2.6511e+00, -2.1354e-02,\n",
      "          2.2070e+01, -1.3554e+01, -6.9350e-02,  1.2053e+01,  8.7903e+00],\n",
      "        [ 1.0950e+01,  7.7656e+00, -1.3942e+01, -2.3872e+00, -2.7552e+00,\n",
      "          1.3354e+01, -1.4196e+01,  6.0160e+00,  6.0735e+00,  1.3531e+01],\n",
      "        [ 9.8944e+00,  9.6613e+00, -1.4257e+01,  4.5643e+00, -1.2244e+00,\n",
      "          1.4278e+01, -1.2201e+01,  7.9403e+00,  9.5830e+00,  7.6918e+00],\n",
      "        [ 5.3682e+00,  8.2917e+00, -3.3633e+00,  1.6031e+00, -9.9878e+00,\n",
      "          2.2458e+01, -1.7057e+01,  1.2093e+01,  1.2390e+01,  3.7577e+00],\n",
      "        [ 1.2530e+01,  8.7085e+00, -2.8720e+00, -5.0011e+00,  5.0698e+00,\n",
      "          1.3968e+01, -9.9893e+00,  1.0127e+01,  1.1436e+01,  1.1345e+01],\n",
      "        [ 1.0972e+01,  1.1026e+00, -8.7932e+00,  3.8433e+00,  6.6530e+00,\n",
      "          1.9062e+01, -1.5395e+01, -1.6865e+00,  7.5809e+00,  1.0743e+01],\n",
      "        [ 1.1039e+01,  2.9178e+00, -9.3695e+00, -2.5504e+00, -6.0501e+00,\n",
      "          7.9349e+00, -2.1832e+01,  1.2044e+01,  5.4566e+00,  4.4889e+00],\n",
      "        [ 9.8749e+00, -1.4264e+00,  1.4165e+00,  1.5450e+00,  5.9952e+00,\n",
      "          9.1947e+00, -1.3300e+01,  1.0535e+01,  1.0664e+01,  6.5888e-01],\n",
      "        [ 1.2020e+01,  1.2805e-01, -1.4090e+01,  6.7097e+00, -3.0143e+00,\n",
      "          1.5254e+01, -2.1993e+01,  1.0148e+00,  1.6963e+01,  3.4840e+00],\n",
      "        [-1.9580e+00,  1.3900e+00, -2.1927e+01, -5.6395e+00,  2.6199e+00,\n",
      "          1.8120e+01, -1.5439e+01, -1.0533e+00,  8.9596e+00,  1.1710e+01],\n",
      "        [ 8.3005e-01,  1.3765e+01, -1.4858e+00,  8.4757e+00, -2.4642e+00,\n",
      "          1.2878e+01, -1.0968e+01,  3.5889e+00,  1.7172e+01,  1.3984e+01],\n",
      "        [ 1.3642e+01,  6.6878e-01, -1.0253e+00, -1.2394e+01,  5.0890e+00,\n",
      "          1.8517e+01, -1.6679e+01,  6.5892e+00,  1.0717e+01,  1.0615e+01],\n",
      "        [ 1.3785e+01,  9.5579e+00,  1.0573e+00, -1.9542e+00,  8.5904e-01,\n",
      "          1.2347e+01, -2.1051e+01,  5.6085e-01,  1.3423e+01,  1.1987e+01],\n",
      "        [ 1.2338e+01,  7.6401e+00, -5.1009e+00, -1.3536e+01,  1.0741e+01,\n",
      "          2.3912e+01, -2.2985e+01, -4.6679e+00,  1.4037e+00,  1.2566e+00],\n",
      "        [ 9.4852e+00,  3.5917e+00, -1.3184e+01, -5.4689e-01,  1.1706e+00,\n",
      "          1.2690e+01, -1.3635e+01, -1.6406e+00,  3.6924e+00,  1.2214e+01],\n",
      "        [ 1.1626e+01,  9.7169e+00, -9.8203e+00,  2.2851e+00,  7.3297e-02,\n",
      "          1.7324e+01, -2.4163e+01, -1.9606e+00,  6.3149e+00,  6.9429e+00],\n",
      "        [ 3.3122e+00,  9.3148e+00, -6.7533e+00, -1.1838e+01,  3.9188e+00,\n",
      "          1.1476e+01, -1.6335e+01,  6.3520e+00,  8.6576e+00,  5.6678e+00],\n",
      "        [ 1.3115e+01,  2.0969e+00, -7.8102e+00,  1.0815e+01, -3.7292e+00,\n",
      "          1.6488e+01, -2.4150e+01,  1.2421e+01,  1.1700e+01,  3.8707e+00],\n",
      "        [ 8.4599e+00,  2.6722e+00,  6.4239e+00,  8.6522e+00,  2.4120e-01,\n",
      "          1.2446e+01, -1.3168e+01,  4.0010e-01,  8.7923e+00,  2.7727e+00],\n",
      "        [ 3.2450e+00,  1.9758e+00, -3.6073e+00, -8.9929e+00, -5.8175e-01,\n",
      "          1.6080e+01, -9.1556e+00,  8.3854e+00,  8.3861e+00,  3.6318e+00],\n",
      "        [ 2.2380e+00,  6.8609e+00, -6.8659e+00, -7.1630e+00,  7.8841e-01,\n",
      "          1.3367e+01, -8.2357e-01,  3.9628e+00,  9.0099e+00,  1.7695e+01],\n",
      "        [ 5.1796e+00,  3.5786e+00, -1.8159e+01, -6.1877e+00,  1.6013e+00,\n",
      "          1.1929e+01, -1.6255e+01,  1.1019e+00,  5.8860e+00,  4.9116e+00],\n",
      "        [ 1.1522e+01,  8.6308e+00, -4.9089e+00,  7.3187e+00, -6.2989e+00,\n",
      "          7.0155e+00, -1.9417e+01, -9.3301e-01,  1.0314e+01,  4.7981e+00],\n",
      "        [ 1.3076e+01,  1.2863e+00, -9.4804e+00, -5.1665e+00,  1.1608e+01,\n",
      "          7.7012e+00, -1.0372e+01,  9.7800e+00,  7.6019e+00,  1.6274e+01],\n",
      "        [ 1.4462e+01,  7.3246e+00, -7.9617e+00,  4.3262e+00, -3.1409e+00,\n",
      "          1.3051e+01, -1.6940e+01,  1.6510e+01,  6.2974e+00,  4.9001e+00],\n",
      "        [-4.6387e+00,  1.0880e+01, -5.9202e+00,  5.6436e+00,  1.3323e+00,\n",
      "          1.6845e+01, -1.3137e+01,  3.5804e+00,  2.0183e+00,  5.7590e+00],\n",
      "        [ 3.8140e+00,  4.6922e+00,  1.4510e-01, -1.1310e+01,  6.5743e+00,\n",
      "          2.0681e+01, -1.9980e+01,  1.8677e+00,  1.5012e+01,  2.3659e+00],\n",
      "        [ 1.3759e+01,  1.4774e+01,  2.4563e+00, -8.3156e+00,  1.2696e+01,\n",
      "          1.5602e+01, -1.7842e+01,  7.6010e+00,  7.1156e+00,  9.3248e-01],\n",
      "        [ 1.3141e+01,  2.3632e+00, -8.1581e+00, -7.1467e+00,  5.5461e+00,\n",
      "          2.0028e+01, -1.1654e+01,  2.3567e+00,  1.1335e+01,  1.0776e+01],\n",
      "        [ 9.9749e+00, -3.6729e+00, -9.2647e+00, -7.4697e+00,  1.1145e+00,\n",
      "          1.9141e+01, -2.1207e+01,  4.3540e+00,  1.6211e+01,  7.7092e+00],\n",
      "        [ 4.5661e+00,  1.2674e+01, -5.3647e+00, -9.6759e-01,  6.7899e+00,\n",
      "          2.0515e+01, -1.9017e+01,  4.1261e+00,  6.8071e+00,  1.0585e+01],\n",
      "        [ 1.0727e+01, -4.7223e-01, -8.5563e+00, -7.7029e-01,  1.5850e+00,\n",
      "          2.0502e+01, -2.1297e+01, -1.3843e+00,  8.9351e+00,  9.1926e+00],\n",
      "        [ 4.8247e+00,  3.9493e+00, -1.3956e+01, -2.0451e+00,  9.6925e-01,\n",
      "          1.6718e+01, -1.3382e+01,  8.5603e+00,  1.7333e+01,  3.4924e+00],\n",
      "        [ 9.7571e+00, -6.8904e+00, -1.9743e+01,  9.3491e-01,  1.0232e+00,\n",
      "          1.2420e+01, -1.8897e+01,  5.0254e+00,  1.1674e+01,  3.1923e+00],\n",
      "        [ 9.5384e+00,  7.5815e+00, -2.1612e+01, -2.8142e+00,  1.5419e+00,\n",
      "          1.3782e+01, -1.4891e+01, -2.2927e+00,  7.4684e+00,  1.7271e+01],\n",
      "        [ 2.3471e+00,  3.0424e+00, -1.3168e+01, -6.9090e+00, -6.6427e+00,\n",
      "          1.3665e+01, -1.1012e+01,  7.6283e+00,  6.7356e+00,  8.2799e+00],\n",
      "        [ 8.8062e+00, -1.1530e+00, -1.3919e+01, -6.6446e+00,  2.0487e+00,\n",
      "          1.6488e+01, -1.3937e+01,  7.9568e+00,  1.5173e+01,  1.1387e+01],\n",
      "        [ 1.4202e+01,  6.7194e+00, -4.4820e+00, -4.5787e-01, -1.2066e+00,\n",
      "          2.3326e+01, -2.2830e+01,  2.7521e+00,  5.7972e+00,  1.0981e+01],\n",
      "        [ 1.3587e+01,  2.0025e+00, -2.3162e+00, -1.1046e+01, -1.1486e+00,\n",
      "          1.5653e+01, -1.8617e+01,  1.5529e+00,  1.1012e+01,  4.7849e+00],\n",
      "        [ 1.2113e+01,  2.5216e+00, -7.1838e+00, -1.5682e+01, -5.0087e+00,\n",
      "          2.1029e+01, -2.2254e+01,  5.6533e+00,  9.0773e+00,  5.1413e-02],\n",
      "        [ 7.1222e+00, -2.1783e+00, -1.2072e+01,  4.7622e+00, -2.1352e+00,\n",
      "          1.5405e+01, -2.5887e+01,  2.2612e+00,  1.2818e+01,  6.4237e+00],\n",
      "        [ 5.9553e+00,  1.3057e+00, -7.3411e+00, -2.5821e+00, -1.4945e+00,\n",
      "          1.8349e+01, -1.7439e+01,  4.9897e+00,  1.3997e+01,  4.5345e+00],\n",
      "        [ 4.6236e+00,  1.0965e+01, -1.0166e+01, -8.9042e+00,  5.2195e+00,\n",
      "          1.9713e+01, -1.3661e+01,  4.3510e+00,  5.9134e+00, -1.2684e+00],\n",
      "        [ 9.2049e+00,  1.2257e+01, -1.2243e+01, -7.3667e-02, -2.9499e+00,\n",
      "          1.7355e+01, -2.6010e+01,  3.2062e+00,  1.7379e+01,  8.7492e+00],\n",
      "        [ 1.0137e+01, -7.9467e-01, -1.5051e+01, -1.5545e+00, -1.9781e+00,\n",
      "          1.2899e+01, -2.3576e+01,  2.1142e+00,  8.0723e+00,  8.6277e+00],\n",
      "        [ 5.4145e+00,  6.6274e+00, -9.5898e+00, -2.3369e-01, -1.2295e+01,\n",
      "          1.2611e+01, -1.5669e+01,  4.3451e+00,  1.2282e+01,  9.7430e+00],\n",
      "        [ 1.1191e+01, -4.9435e+00, -1.9780e+01, -6.5459e+00,  4.2007e+00,\n",
      "          1.3860e+01, -1.3296e+01,  9.3628e+00,  1.0665e+01,  1.8186e+00],\n",
      "        [ 5.9898e+00, -7.7788e-01, -1.8235e+01, -3.9983e+00,  6.5635e-02,\n",
      "          2.0128e+01, -1.4586e+01, -6.0121e+00,  1.4068e+01,  1.2431e+01],\n",
      "        [ 8.9831e+00,  7.6040e+00, -2.1684e+00,  2.7276e-01, -4.7093e-01,\n",
      "          1.3142e+01, -1.4037e+01,  5.9794e+00,  2.9715e+00,  1.6304e+00],\n",
      "        [ 1.6686e+01,  4.9148e+00, -6.3725e+00,  3.0735e+00, -3.4499e+00,\n",
      "          1.8344e+01, -2.1623e+01, -1.0918e+00,  8.6555e+00,  1.9321e+00],\n",
      "        [ 1.0863e+01,  1.5368e+01, -1.0297e+00, -3.1920e-01,  5.3772e+00,\n",
      "          1.2289e+01, -1.3569e+01,  2.5724e+00,  1.4075e+01,  9.8925e+00],\n",
      "        [ 6.8604e+00,  3.8245e-01, -1.4457e+00,  4.4516e+00,  8.3392e+00,\n",
      "          1.4977e+01, -1.0965e+01,  1.2801e+00,  1.2273e+01,  1.5103e+00],\n",
      "        [ 8.6906e+00,  6.8374e+00, -3.1616e+00,  6.2616e+00, -5.8595e+00,\n",
      "          1.1243e+01, -1.9264e+01,  7.1633e+00,  5.9309e+00,  4.1920e+00],\n",
      "        [ 1.2278e+01,  1.3121e+01, -3.9680e+00,  5.5943e+00,  5.2493e+00,\n",
      "          1.2810e+01, -2.0700e+01,  7.4120e+00,  8.3408e+00,  1.0920e+01],\n",
      "        [ 1.2718e+01,  3.2351e+00, -3.1417e+00, -8.2413e+00, -4.3170e+00,\n",
      "          1.2362e+01, -9.4577e+00,  8.1585e+00,  7.4604e+00, -4.8703e-01],\n",
      "        [ 6.6915e+00,  6.2150e+00,  2.5487e+00, -9.5042e+00, -9.0782e-01,\n",
      "          1.2954e+01, -4.4018e+00,  3.0716e+00,  9.5243e+00,  8.6661e+00],\n",
      "        [ 6.0322e+00,  1.3339e+00, -2.4338e+01, -1.2780e+01,  9.9863e-01,\n",
      "          1.2289e+01, -2.1556e+01, -2.1083e+00,  6.2563e+00,  1.1948e+01],\n",
      "        [ 7.9959e+00,  3.2546e+00, -1.1616e+01,  1.7351e+00, -2.3425e+00,\n",
      "          1.0973e+01, -2.0339e+01, -3.9739e+00,  3.8176e+00,  1.9600e+00],\n",
      "        [ 1.4625e+01, -1.9674e+00, -3.6994e+00,  6.0728e+00, -8.3040e+00,\n",
      "          1.5690e+01, -1.9078e+01,  3.3055e+00,  7.7662e+00,  8.1201e+00],\n",
      "        [ 1.4537e+01,  5.1508e+00, -1.5699e+01, -2.4780e+00,  5.9149e+00,\n",
      "          1.7478e+01, -2.6319e+01,  7.4872e+00,  7.6023e+00,  6.9616e+00],\n",
      "        [ 2.2481e+00,  1.0372e+00, -8.8200e+00, -2.0221e+01, -4.8181e+00,\n",
      "          1.6498e+01, -2.0316e+01, -1.6820e+00,  4.5890e+00,  7.7261e+00],\n",
      "        [ 6.9865e+00,  1.1336e+01, -7.9739e+00, -8.1060e+00,  2.6554e+00,\n",
      "          1.6147e+01, -2.4429e+01,  3.2688e+00,  2.8497e-01,  2.0378e+01],\n",
      "        [ 1.2805e+01, -1.9857e+00, -1.4965e+01,  3.4438e+00, -9.1713e+00,\n",
      "          1.3686e+01, -1.6409e+01,  7.2061e+00,  8.8245e+00, -1.6705e+00],\n",
      "        [ 1.6814e-01, -6.0702e+00, -1.1076e+01, -6.1049e+00,  7.3696e+00,\n",
      "          2.1672e+01, -2.0124e+01,  2.7440e+00,  1.5638e+01,  1.5089e+01]])\n"
     ]
    }
   ],
   "source": [
    "## Your solution\n",
    "def activation(x):\n",
    "    \"\"\" Sigmoid activation function \n",
    "    \n",
    "        Arguments\n",
    "        ---------\n",
    "        x: torch.Tensor\n",
    "    \"\"\"\n",
    "    return 1/(1+torch.exp(-x))\n",
    "input_batch = torch.tensor(images.numpy().squeeze()).view(64, 784)\n",
    "n_inputs = input_batch.size()[1]\n",
    "n_hidden_units = 256\n",
    "n_outputs = 10\n",
    "W1 = torch.randn(n_inputs, n_hidden_units)\n",
    "B1 = torch.randn(1, n_hidden_units)\n",
    "W2 = torch.randn(n_hidden_units, n_outputs)\n",
    "B2 = torch.randn(1, n_outputs)\n",
    "out = torch.mm(activation(torch.mm(input_batch,W1)+B1), W2) + B2\n",
    "print(out)"
   ]
  },
  {
   "cell_type": "markdown",
   "metadata": {},
   "source": [
    "Now we have 10 outputs for our network. We want to pass in an image to our network and get out a probability distribution over the classes that tells us the likely class(es) the image belongs to. Something that looks like this:\n",
    "<img src='assets/image_distribution.png' width=500px>\n",
    "\n",
    "Here we see that the probability for each class is roughly the same. This is representing an untrained network, it hasn't seen any data yet so it just returns a uniform distribution with equal probabilities for each class.\n",
    "\n",
    "To calculate this probability distribution, we often use the [**softmax** function](https://en.wikipedia.org/wiki/Softmax_function). Mathematically this looks like\n",
    "\n",
    "$$\n",
    "\\Large \\sigma(x_i) = \\cfrac{e^{x_i}}{\\sum_k^K{e^{x_k}}}\n",
    "$$\n",
    "\n",
    "What this does is squish each input $x_i$ between 0 and 1 and normalizes the values to give you a proper probability distribution where the probabilites sum up to one.\n",
    "\n",
    "> **Exercise:** Implement a function `softmax` that performs the softmax calculation and returns probability distributions for each example in the batch. Note that you'll need to pay attention to the shapes when doing this. If you have a tensor `a` with shape `(64, 10)` and a tensor `b` with shape `(64,)`, doing `a/b` will give you an error because PyTorch will try to do the division across the columns (called broadcasting) but you'll get a size mismatch. The way to think about this is for each of the 64 examples, you only want to divide by one value, the sum in the denominator. So you need `b` to have a shape of `(64, 1)`. This way PyTorch will divide the 10 values in each row of `a` by the one value in each row of `b`. Pay attention to how you take the sum as well. You'll need to define the `dim` keyword in `torch.sum`. Setting `dim=0` takes the sum across the rows while `dim=1` takes the sum across the columns."
   ]
  },
  {
   "cell_type": "code",
   "execution_count": 31,
   "metadata": {},
   "outputs": [
    {
     "name": "stdout",
     "output_type": "stream",
     "text": [
      "torch.Size([64, 10])\n",
      "tensor([1.0000, 1.0000, 1.0000, 1.0000, 1.0000, 1.0000, 1.0000, 1.0000, 1.0000,\n",
      "        1.0000, 1.0000, 1.0000, 1.0000, 1.0000, 1.0000, 1.0000, 1.0000, 1.0000,\n",
      "        1.0000, 1.0000, 1.0000, 1.0000, 1.0000, 1.0000, 1.0000, 1.0000, 1.0000,\n",
      "        1.0000, 1.0000, 1.0000, 1.0000, 1.0000, 1.0000, 1.0000, 1.0000, 1.0000,\n",
      "        1.0000, 1.0000, 1.0000, 1.0000, 1.0000, 1.0000, 1.0000, 1.0000, 1.0000,\n",
      "        1.0000, 1.0000, 1.0000, 1.0000, 1.0000, 1.0000, 1.0000, 1.0000, 1.0000,\n",
      "        1.0000, 1.0000, 1.0000, 1.0000, 1.0000, 1.0000, 1.0000, 1.0000, 1.0000,\n",
      "        1.0000])\n"
     ]
    }
   ],
   "source": [
    "def softmax(x):\n",
    "    return torch.exp(x)/ torch.sum(torch.exp(x), dim = 1).view(64,1)\n",
    "\n",
    "# Here, out should be the output of the network in the previous excercise with shape (64,10)\n",
    "probabilities = softmax(out)\n",
    "\n",
    "# Does it have the right shape? Should be (64, 10)\n",
    "print(probabilities.shape)\n",
    "# Does it sum to 1?\n",
    "print(probabilities.sum(dim=1))"
   ]
  },
  {
   "cell_type": "markdown",
   "metadata": {},
   "source": [
    "## Building networks with PyTorch\n",
    "\n",
    "PyTorch provides a module `nn` that makes building networks much simpler. Here I'll show you how to build the same one as above with 784 inputs, 256 hidden units, 10 output units and a softmax output."
   ]
  },
  {
   "cell_type": "code",
   "execution_count": 33,
   "metadata": {},
   "outputs": [],
   "source": [
    "from torch import nn"
   ]
  },
  {
   "cell_type": "code",
   "execution_count": 34,
   "metadata": {},
   "outputs": [],
   "source": [
    "class Network(nn.Module):\n",
    "    def __init__(self):\n",
    "        super().__init__()\n",
    "        \n",
    "        # Inputs to hidden layer linear transformation\n",
    "        self.hidden = nn.Linear(784, 256)\n",
    "        # Output layer, 10 units - one for each digit\n",
    "        self.output = nn.Linear(256, 10)\n",
    "        \n",
    "        # Define sigmoid activation and softmax output \n",
    "        self.sigmoid = nn.Sigmoid()\n",
    "        self.softmax = nn.Softmax(dim=1)\n",
    "        \n",
    "    def forward(self, x):\n",
    "        # Pass the input tensor through each of our operations\n",
    "        x = self.hidden(x)\n",
    "        x = self.sigmoid(x)\n",
    "        x = self.output(x)\n",
    "        x = self.softmax(x)\n",
    "        \n",
    "        return x"
   ]
  },
  {
   "cell_type": "markdown",
   "metadata": {},
   "source": [
    "Let's go through this bit by bit.\n",
    "\n",
    "```python\n",
    "class Network(nn.Module):\n",
    "```\n",
    "\n",
    "Here we're inheriting from `nn.Module`. Combined with `super().__init__()` this creates a class that tracks the architecture and provides a lot of useful methods and attributes. It is mandatory to inherit from `nn.Module` when you're creating a class for your network. The name of the class itself can be anything.\n",
    "\n",
    "```python\n",
    "self.hidden = nn.Linear(784, 256)\n",
    "```\n",
    "\n",
    "This line creates a module for a linear transformation, $x\\mathbf{W} + b$, with 784 inputs and 256 outputs and assigns it to `self.hidden`. The module automatically creates the weight and bias tensors which we'll use in the `forward` method. You can access the weight and bias tensors once the network (`net`) is created with `net.hidden.weight` and `net.hidden.bias`.\n",
    "\n",
    "```python\n",
    "self.output = nn.Linear(256, 10)\n",
    "```\n",
    "\n",
    "Similarly, this creates another linear transformation with 256 inputs and 10 outputs.\n",
    "\n",
    "```python\n",
    "self.sigmoid = nn.Sigmoid()\n",
    "self.softmax = nn.Softmax(dim=1)\n",
    "```\n",
    "\n",
    "Here I defined operations for the sigmoid activation and softmax output. Setting `dim=1` in `nn.Softmax(dim=1)` calculates softmax across the columns.\n",
    "\n",
    "```python\n",
    "def forward(self, x):\n",
    "```\n",
    "\n",
    "PyTorch networks created with `nn.Module` must have a `forward` method defined. It takes in a tensor `x` and passes it through the operations you defined in the `__init__` method.\n",
    "\n",
    "```python\n",
    "x = self.hidden(x)\n",
    "x = self.sigmoid(x)\n",
    "x = self.output(x)\n",
    "x = self.softmax(x)\n",
    "```\n",
    "\n",
    "Here the input tensor `x` is passed through each operation a reassigned to `x`. We can see that the input tensor goes through the hidden layer, then a sigmoid function, then the output layer, and finally the softmax function. It doesn't matter what you name the variables here, as long as the inputs and outputs of the operations match the network architecture you want to build. The order in which you define things in the `__init__` method doesn't matter, but you'll need to sequence the operations correctly in the `forward` method.\n",
    "\n",
    "Now we can create a `Network` object."
   ]
  },
  {
   "cell_type": "code",
   "execution_count": 35,
   "metadata": {},
   "outputs": [
    {
     "data": {
      "text/plain": [
       "Network(\n",
       "  (hidden): Linear(in_features=784, out_features=256, bias=True)\n",
       "  (output): Linear(in_features=256, out_features=10, bias=True)\n",
       "  (sigmoid): Sigmoid()\n",
       "  (softmax): Softmax(dim=1)\n",
       ")"
      ]
     },
     "execution_count": 35,
     "metadata": {},
     "output_type": "execute_result"
    }
   ],
   "source": [
    "# Create the network and look at it's text representation\n",
    "model = Network()\n",
    "model"
   ]
  },
  {
   "cell_type": "markdown",
   "metadata": {},
   "source": [
    "You can define the network somewhat more concisely and clearly using the `torch.nn.functional` module. This is the most common way you'll see networks defined as many operations are simple element-wise functions. We normally import this module as `F`, `import torch.nn.functional as F`."
   ]
  },
  {
   "cell_type": "code",
   "execution_count": 36,
   "metadata": {},
   "outputs": [],
   "source": [
    "import torch.nn.functional as F\n",
    "\n",
    "class Network(nn.Module):\n",
    "    def __init__(self):\n",
    "        super().__init__()\n",
    "        # Inputs to hidden layer linear transformation\n",
    "        self.hidden = nn.Linear(784, 256)\n",
    "        # Output layer, 10 units - one for each digit\n",
    "        self.output = nn.Linear(256, 10)\n",
    "        \n",
    "    def forward(self, x):\n",
    "        # Hidden layer with sigmoid activation\n",
    "        x = F.sigmoid(self.hidden(x))\n",
    "        # Output layer with softmax activation\n",
    "        x = F.softmax(self.output(x), dim=1)\n",
    "        \n",
    "        return x"
   ]
  },
  {
   "cell_type": "markdown",
   "metadata": {},
   "source": [
    "### Activation functions\n",
    "\n",
    "So far we've only been looking at the softmax activation, but in general any function can be used as an activation function. The only requirement is that for a network to approximate a non-linear function, the activation functions must be non-linear. Here are a few more examples of common activation functions: Tanh (hyperbolic tangent), and ReLU (rectified linear unit).\n",
    "\n",
    "<img src=\"assets/activation.png\" width=700px>\n",
    "\n",
    "In practice, the ReLU function is used almost exclusively as the activation function for hidden layers."
   ]
  },
  {
   "cell_type": "markdown",
   "metadata": {},
   "source": [
    "### Your Turn to Build a Network\n",
    "\n",
    "<img src=\"assets/mlp_mnist.png\" width=600px>\n",
    "\n",
    "> **Exercise:** Create a network with 784 input units, a hidden layer with 128 units and a ReLU activation, then a hidden layer with 64 units and a ReLU activation, and finally an output layer with a softmax activation as shown above. You can use a ReLU activation with the `nn.ReLU` module or `F.relu` function."
   ]
  },
  {
   "cell_type": "code",
   "execution_count": 54,
   "metadata": {
    "scrolled": true
   },
   "outputs": [],
   "source": [
    "## Your solution here\n",
    "class SuperNetwork(nn.Module):\n",
    "    def __init__(self):\n",
    "        super().__init__()\n",
    "        self.fc1 = nn.Linear(784, 128)\n",
    "        self.fc2 = nn.Linear(128, 64)\n",
    "        self.outputLayer = nn.Linear(64,10)\n",
    "    def forward(self, x):\n",
    "        x = F.relu(self.fc1(x))\n",
    "        x = F.relu(self.fc2(x))\n",
    "        x = F.softmax(self.outputLayer(x))\n",
    "        return x\n",
    "model = SuperNetwork()"
   ]
  },
  {
   "cell_type": "markdown",
   "metadata": {},
   "source": [
    "### Initializing weights and biases\n",
    "\n",
    "The weights and such are automatically initialized for you, but it's possible to customize how they are initialized. The weights and biases are tensors attached to the layer you defined, you can get them with `model.fc1.weight` for instance."
   ]
  },
  {
   "cell_type": "code",
   "execution_count": 55,
   "metadata": {},
   "outputs": [
    {
     "name": "stdout",
     "output_type": "stream",
     "text": [
      "Parameter containing:\n",
      "tensor([[-0.0109,  0.0250, -0.0152,  ...,  0.0336, -0.0020,  0.0024],\n",
      "        [ 0.0241,  0.0337, -0.0159,  ...,  0.0164,  0.0155,  0.0198],\n",
      "        [ 0.0151, -0.0340,  0.0100,  ..., -0.0194, -0.0121,  0.0129],\n",
      "        ...,\n",
      "        [ 0.0068,  0.0269, -0.0296,  ..., -0.0218,  0.0289,  0.0246],\n",
      "        [ 0.0036,  0.0109,  0.0006,  ..., -0.0073,  0.0270,  0.0201],\n",
      "        [-0.0314,  0.0080, -0.0183,  ..., -0.0287,  0.0336,  0.0206]],\n",
      "       requires_grad=True)\n",
      "Parameter containing:\n",
      "tensor([-0.0129, -0.0187,  0.0312,  0.0194,  0.0290, -0.0189,  0.0307, -0.0269,\n",
      "        -0.0236, -0.0181, -0.0238,  0.0056, -0.0225,  0.0213, -0.0204,  0.0259,\n",
      "         0.0052,  0.0204,  0.0338,  0.0159,  0.0273, -0.0348, -0.0137,  0.0341,\n",
      "         0.0134, -0.0012,  0.0152,  0.0181,  0.0106,  0.0303, -0.0174,  0.0158,\n",
      "        -0.0187, -0.0317,  0.0356, -0.0209, -0.0146, -0.0240,  0.0074, -0.0151,\n",
      "         0.0065,  0.0150,  0.0074, -0.0122, -0.0024, -0.0029, -0.0297, -0.0215,\n",
      "        -0.0332,  0.0107, -0.0018, -0.0333,  0.0317, -0.0011,  0.0097,  0.0274,\n",
      "         0.0038, -0.0213,  0.0009, -0.0340,  0.0321,  0.0017,  0.0024, -0.0200,\n",
      "        -0.0307,  0.0337,  0.0271,  0.0202, -0.0174, -0.0230,  0.0153,  0.0302,\n",
      "         0.0327,  0.0226,  0.0251,  0.0106,  0.0162, -0.0089, -0.0013,  0.0227,\n",
      "         0.0228,  0.0117, -0.0227, -0.0232, -0.0046, -0.0312, -0.0017,  0.0244,\n",
      "        -0.0286, -0.0212,  0.0249,  0.0107, -0.0249,  0.0223, -0.0124,  0.0144,\n",
      "        -0.0212, -0.0290, -0.0039,  0.0094, -0.0114,  0.0303,  0.0130, -0.0156,\n",
      "         0.0178,  0.0324,  0.0018, -0.0248, -0.0347,  0.0348,  0.0259, -0.0131,\n",
      "         0.0063, -0.0212,  0.0163, -0.0289,  0.0160,  0.0063,  0.0291, -0.0347,\n",
      "         0.0009,  0.0062,  0.0308, -0.0004,  0.0149, -0.0356, -0.0306,  0.0202],\n",
      "       requires_grad=True)\n"
     ]
    }
   ],
   "source": [
    "print(model.fc1.weight)\n",
    "print(model.fc1.bias)"
   ]
  },
  {
   "cell_type": "markdown",
   "metadata": {},
   "source": [
    "For custom initialization, we want to modify these tensors in place. These are actually autograd *Variables*, so we need to get back the actual tensors with `model.fc1.weight.data`. Once we have the tensors, we can fill them with zeros (for biases) or random normal values."
   ]
  },
  {
   "cell_type": "code",
   "execution_count": 56,
   "metadata": {},
   "outputs": [
    {
     "data": {
      "text/plain": [
       "tensor([0., 0., 0., 0., 0., 0., 0., 0., 0., 0., 0., 0., 0., 0., 0., 0., 0., 0., 0., 0., 0., 0., 0., 0.,\n",
       "        0., 0., 0., 0., 0., 0., 0., 0., 0., 0., 0., 0., 0., 0., 0., 0., 0., 0., 0., 0., 0., 0., 0., 0.,\n",
       "        0., 0., 0., 0., 0., 0., 0., 0., 0., 0., 0., 0., 0., 0., 0., 0., 0., 0., 0., 0., 0., 0., 0., 0.,\n",
       "        0., 0., 0., 0., 0., 0., 0., 0., 0., 0., 0., 0., 0., 0., 0., 0., 0., 0., 0., 0., 0., 0., 0., 0.,\n",
       "        0., 0., 0., 0., 0., 0., 0., 0., 0., 0., 0., 0., 0., 0., 0., 0., 0., 0., 0., 0., 0., 0., 0., 0.,\n",
       "        0., 0., 0., 0., 0., 0., 0., 0.])"
      ]
     },
     "execution_count": 56,
     "metadata": {},
     "output_type": "execute_result"
    }
   ],
   "source": [
    "# Set biases to all zeros\n",
    "model.fc1.bias.data.fill_(0)"
   ]
  },
  {
   "cell_type": "code",
   "execution_count": 57,
   "metadata": {},
   "outputs": [
    {
     "data": {
      "text/plain": [
       "tensor([[ 0.0020, -0.0123,  0.0123,  ..., -0.0063,  0.0252, -0.0052],\n",
       "        [ 0.0083, -0.0007,  0.0076,  ..., -0.0008,  0.0121,  0.0094],\n",
       "        [ 0.0010,  0.0039,  0.0055,  ..., -0.0150, -0.0046,  0.0015],\n",
       "        ...,\n",
       "        [-0.0042,  0.0001,  0.0020,  ..., -0.0007, -0.0123,  0.0141],\n",
       "        [-0.0079, -0.0055,  0.0111,  ...,  0.0101,  0.0072, -0.0177],\n",
       "        [ 0.0033, -0.0031,  0.0184,  ...,  0.0083,  0.0116, -0.0076]])"
      ]
     },
     "execution_count": 57,
     "metadata": {},
     "output_type": "execute_result"
    }
   ],
   "source": [
    "# sample from random normal with standard dev = 0.01\n",
    "model.fc1.weight.data.normal_(std=0.01)"
   ]
  },
  {
   "cell_type": "markdown",
   "metadata": {},
   "source": [
    "### Forward pass\n",
    "\n",
    "Now that we have a network, let's see what happens when we pass in an image."
   ]
  },
  {
   "cell_type": "code",
   "execution_count": 58,
   "metadata": {},
   "outputs": [
    {
     "name": "stderr",
     "output_type": "stream",
     "text": [
      "/usr/local/lib/python3.7/site-packages/ipykernel_launcher.py:11: UserWarning: Implicit dimension choice for softmax has been deprecated. Change the call to include dim=X as an argument.\n",
      "  # This is added back by InteractiveShellApp.init_path()\n"
     ]
    },
    {
     "data": {
      "image/png": "[encoded data removed]",
      "text/plain": [
       "<Figure size 432x648 with 2 Axes>"
      ]
     },
     "metadata": {
      "image/png": {
       "height": 235,
       "width": 424
      },
      "needs_background": "light"
     },
     "output_type": "display_data"
    }
   ],
   "source": [
    "# Grab some data \n",
    "dataiter = iter(trainloader)\n",
    "images, labels = dataiter.next()\n",
    "\n",
    "# Resize images into a 1D vector, new shape is (batch size, color channels, image pixels) \n",
    "images.resize_(64, 1, 784)\n",
    "# or images.resize_(images.shape[0], 1, 784) to automatically get batch size\n",
    "\n",
    "# Forward pass through the network\n",
    "img_idx = 0\n",
    "ps = model.forward(images[img_idx,:])\n",
    "\n",
    "img = images[img_idx]\n",
    "helper.view_classify(img.view(1, 28, 28), ps)"
   ]
  },
  {
   "cell_type": "markdown",
   "metadata": {},
   "source": [
    "As you can see above, our network has basically no idea what this digit is. It's because we haven't trained it yet, all the weights are random!\n",
    "\n",
    "### Using `nn.Sequential`\n",
    "\n",
    "PyTorch provides a convenient way to build networks like this where a tensor is passed sequentially through operations, `nn.Sequential` ([documentation](https://pytorch.org/docs/master/nn.html#torch.nn.Sequential)). Using this to build the equivalent network:"
   ]
  },
  {
   "cell_type": "code",
   "execution_count": 59,
   "metadata": {},
   "outputs": [
    {
     "name": "stdout",
     "output_type": "stream",
     "text": [
      "Sequential(\n",
      "  (0): Linear(in_features=784, out_features=128, bias=True)\n",
      "  (1): ReLU()\n",
      "  (2): Linear(in_features=128, out_features=64, bias=True)\n",
      "  (3): ReLU()\n",
      "  (4): Linear(in_features=64, out_features=10, bias=True)\n",
      "  (5): Softmax(dim=1)\n",
      ")\n"
     ]
    },
    {
     "data": {
      "image/png": "[encoded data removed]",
      "text/plain": [
       "<Figure size 432x648 with 2 Axes>"
      ]
     },
     "metadata": {
      "image/png": {
       "height": 235,
       "width": 424
      },
      "needs_background": "light"
     },
     "output_type": "display_data"
    }
   ],
   "source": [
    "# Hyperparameters for our network\n",
    "input_size = 784\n",
    "hidden_sizes = [128, 64]\n",
    "output_size = 10\n",
    "\n",
    "# Build a feed-forward network\n",
    "model = nn.Sequential(nn.Linear(input_size, hidden_sizes[0]),\n",
    "                      nn.ReLU(),\n",
    "                      nn.Linear(hidden_sizes[0], hidden_sizes[1]),\n",
    "                      nn.ReLU(),\n",
    "                      nn.Linear(hidden_sizes[1], output_size),\n",
    "                      nn.Softmax(dim=1))\n",
    "print(model)\n",
    "\n",
    "# Forward pass through the network and display output\n",
    "images, labels = next(iter(trainloader))\n",
    "images.resize_(images.shape[0], 1, 784)\n",
    "ps = model.forward(images[0,:])\n",
    "helper.view_classify(images[0].view(1, 28, 28), ps)"
   ]
  },
  {
   "cell_type": "markdown",
   "metadata": {},
   "source": [
    "Here our model is the same as before: 784 input units, a hidden layer with 128 units, ReLU activation, 64 unit hidden layer, another ReLU, then the output layer with 10 units, and the softmax output.\n",
    "\n",
    "The operations are availble by passing in the appropriate index. For example, if you want to get first Linear operation and look at the weights, you'd use `model[0]`."
   ]
  },
  {
   "cell_type": "code",
   "execution_count": 61,
   "metadata": {},
   "outputs": [
    {
     "name": "stdout",
     "output_type": "stream",
     "text": [
      "Linear(in_features=784, out_features=128, bias=True)\n"
     ]
    },
    {
     "data": {
      "text/plain": [
       "Parameter containing:\n",
       "tensor([[ 3.5340e-02,  2.9997e-02, -2.5999e-02,  ..., -9.8187e-05,\n",
       "          3.4802e-02,  3.1179e-02],\n",
       "        [ 3.4844e-02, -1.9360e-02,  2.4673e-02,  ..., -3.4947e-02,\n",
       "          2.4380e-02,  1.2019e-02],\n",
       "        [ 2.2551e-02,  1.3435e-02,  3.3588e-02,  ...,  1.8813e-02,\n",
       "          3.1733e-02,  3.4063e-03],\n",
       "        ...,\n",
       "        [ 9.8305e-03, -3.5619e-02,  1.6646e-03,  ..., -1.2832e-02,\n",
       "         -2.8601e-03, -2.1383e-02],\n",
       "        [-2.3963e-02,  3.1401e-02,  3.1401e-02,  ...,  3.2552e-02,\n",
       "          4.6110e-03,  3.6904e-03],\n",
       "        [ 8.9613e-03, -5.4138e-03,  2.3515e-02,  ...,  1.1317e-02,\n",
       "          2.7862e-02,  2.0506e-02]], requires_grad=True)"
      ]
     },
     "execution_count": 61,
     "metadata": {},
     "output_type": "execute_result"
    }
   ],
   "source": [
    "print(model[0])\n",
    "model[0].weight"
   ]
  },
  {
   "cell_type": "markdown",
   "metadata": {},
   "source": [
    "You can also pass in an `OrderedDict` to name the individual layers and operations, instead of using incremental integers. Note that dictionary keys must be unique, so _each operation must have a different name_."
   ]
  },
  {
   "cell_type": "code",
   "execution_count": 62,
   "metadata": {},
   "outputs": [
    {
     "data": {
      "text/plain": [
       "Sequential(\n",
       "  (fc1): Linear(in_features=784, out_features=128, bias=True)\n",
       "  (relu1): ReLU()\n",
       "  (fc2): Linear(in_features=128, out_features=64, bias=True)\n",
       "  (relu2): ReLU()\n",
       "  (output): Linear(in_features=64, out_features=10, bias=True)\n",
       "  (softmax): Softmax(dim=1)\n",
       ")"
      ]
     },
     "execution_count": 62,
     "metadata": {},
     "output_type": "execute_result"
    }
   ],
   "source": [
    "from collections import OrderedDict\n",
    "model = nn.Sequential(OrderedDict([\n",
    "                      ('fc1', nn.Linear(input_size, hidden_sizes[0])),\n",
    "                      ('relu1', nn.ReLU()),\n",
    "                      ('fc2', nn.Linear(hidden_sizes[0], hidden_sizes[1])),\n",
    "                      ('relu2', nn.ReLU()),\n",
    "                      ('output', nn.Linear(hidden_sizes[1], output_size)),\n",
    "                      ('softmax', nn.Softmax(dim=1))]))\n",
    "model"
   ]
  },
  {
   "cell_type": "markdown",
   "metadata": {},
   "source": [
    "Now you can access layers either by integer or the name"
   ]
  },
  {
   "cell_type": "code",
   "execution_count": 63,
   "metadata": {},
   "outputs": [
    {
     "name": "stdout",
     "output_type": "stream",
     "text": [
      "Linear(in_features=784, out_features=128, bias=True)\n",
      "Linear(in_features=784, out_features=128, bias=True)\n"
     ]
    }
   ],
   "source": [
    "print(model[0])\n",
    "print(model.fc1)"
   ]
  },
  {
   "cell_type": "markdown",
   "metadata": {},
   "source": [
    "In the next notebook, we'll see how we can train a neural network to accuractly predict the numbers appearing in the MNIST images."
   ]
  }
 ],
 "metadata": {
  "kernelspec": {
   "display_name": "Python 3.7.6 64-bit",
   "language": "python",
   "name": "python37664bit39835eda0a19475080f7e136035fa1d7"
  },
  "language_info": {
   "codemirror_mode": {
    "name": "ipython",
    "version": 3
   },
   "file_extension": ".py",
   "mimetype": "text/x-python",
   "name": "python",
   "nbconvert_exporter": "python",
   "pygments_lexer": "ipython3",
   "version": "3.7.6"
  }
 },
 "nbformat": 4,
 "nbformat_minor": 2
}
